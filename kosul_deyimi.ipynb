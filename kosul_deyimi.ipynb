{
  "nbformat": 4,
  "nbformat_minor": 0,
  "metadata": {
    "colab": {
      "name": "kosul_deyimi.ipynb",
      "version": "0.3.2",
      "provenance": [],
      "include_colab_link": true
    },
    "kernelspec": {
      "name": "python3",
      "display_name": "Python 3"
    }
  },
  "cells": [
    {
      "cell_type": "markdown",
      "metadata": {
        "id": "view-in-github",
        "colab_type": "text"
      },
      "source": [
        "<a href=\"https://colab.research.google.com/github/eolmez91/bilgeis-pyhton2/blob/master/kosul_deyimi.ipynb\" target=\"_parent\"><img src=\"https://colab.research.google.com/assets/colab-badge.svg\" alt=\"Open In Colab\"/></a>"
      ]
    },
    {
      "cell_type": "code",
      "metadata": {
        "id": "r0TYiKiERYNp",
        "colab_type": "code",
        "colab": {
          "base_uri": "https://localhost:8080/",
          "height": 50
        },
        "outputId": "39f64878-a454-449c-e1c2-33efdc0fd4cb"
      },
      "source": [
        "#Bölüm 1: Koşul deyimi yazılması\n",
        "#Katılımcıların ders kapsamında konu anlatımında örnek olarak verilen koşul deyim örneğine benzer bir şekilde çalışacak deyim kodlamasını gerçekleştirmesi beklenilmektedir. \n",
        "#Katılımcı, kullanıcıdan input fonksiyonu ile yaşını serbest olarak seçeceği bir değişkene pozitif bir tamsayı değer olarak girmesini sağlayacaktır. \n",
        "#Girilen değer 100’den küçükse bu durumda değerin 50’den küçük ya da büyük olma durumu kontrol edilecektir. \n",
        "#Eğer değer 50’den küçükse kullanıcıya girilen değerin 0-50 aralığında olduğu, değilse girilen değerin 50-100 aralığında olduğu mesajı verilecektir. \n",
        "#Değerin 100’den büyük olduğu durumlarda kullanıcıya 0-100 aralığında bir değer girilmesini hatırlatacak mesaj ekrana çıktı olarak verilecektir. \n",
        "#Geliştirilen kod parçacığının kaynak dosya ismi “kosul_deyimi.py” olarak kaydedilecektir.\n",
        "#Geliştirilen kod parçacığının kaynak dosyasını(kosul_deyimi.py) istediğiniz bir sıkıştırma uygulamasını (tar, winzip, winrar, gzip vb.) kullanarak sisteme yükleyiniz.\"\"\"\n",
        "\n",
        "yas = abs(int(input(\"Yaşınız: \")))\n",
        "\n",
        "if yas < 100:\n",
        "  if yas < 50:\n",
        "    print(\"Yaşınız 0-50 arasında.\")\n",
        "  else:\n",
        "    print(\"Yaşınız 50-100 arasında.\")\n",
        "else:\n",
        "  print(\"100'den küçük bir değer giriniz.\")\n"
      ],
      "execution_count": 33,
      "outputs": [
        {
          "output_type": "stream",
          "text": [
            "Yaşınız: 28\n",
            "Yaşınız 0-50 arasında.\n"
          ],
          "name": "stdout"
        }
      ]
    }
  ]
}